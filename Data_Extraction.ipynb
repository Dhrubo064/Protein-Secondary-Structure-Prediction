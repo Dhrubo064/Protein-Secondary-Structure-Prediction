{
  "metadata": {
    "kernelspec": {
      "name": "python3",
      "display_name": "Python 3"
    },
    "language_info": {
      "name": "python",
      "version": "3.11.11",
      "mimetype": "text/x-python",
      "codemirror_mode": {
        "name": "ipython",
        "version": 3
      },
      "pygments_lexer": "ipython3",
      "nbconvert_exporter": "python",
      "file_extension": ".py"
    },
    "colab": {
      "provenance": [],
      "gpuType": "T4"
    },
    "accelerator": "GPU",
    "kaggle": {
      "accelerator": "nvidiaTeslaT4",
      "dataSources": [
        {
          "sourceId": 12273113,
          "sourceType": "datasetVersion",
          "datasetId": 7734235
        }
      ],
      "dockerImageVersionId": 31041,
      "isInternetEnabled": true,
      "language": "python",
      "sourceType": "notebook",
      "isGpuEnabled": true
    }
  },
  "nbformat_minor": 0,
  "nbformat": 4,
  "cells": [
    {
      "cell_type": "code",
      "source": [
        "import pandas as pd\n",
        "\n",
        "# Step 1: Load the dataset\n",
        "df = pd.read_csv('/content/2018-06-06-ss.cleaned.csv')\n",
        "\n",
        "# Step 2: Remove null values in the sequence column (replace 'sequence_column_name' with the actual column name)\n",
        "df = df[df['seq'].notnull()]\n",
        "\n",
        "# Step 3: Remove repetitive (duplicate) sequences\n",
        "df = df.drop_duplicates(subset=['seq'])\n",
        "\n",
        "# Step 4: Filter sequences based on length (between 50 and 500 amino acids)\n",
        "df_filtered = df[df['seq'].apply(lambda x: len(str(x)) >= 50 and len(str(x)) <= 500)]\n",
        "\n",
        "# Step 5: Save the final dataset to a new CSV file\n",
        "df_filtered.to_csv('/content/subset_file_50000_100000.csv', index=False)\n",
        "\n",
        "# Display the number of rows in the final dataset\n",
        "print(f\"Number of sequences in the final dataset: {len(df_filtered)}\")"
      ],
      "metadata": {
        "colab": {
          "base_uri": "https://localhost:8080/"
        },
        "id": "5GtDJgcADe80",
        "outputId": "fd2f1dd3-c952-46f8-ee57-c7d9e6b3f64d"
      },
      "execution_count": 11,
      "outputs": [
        {
          "output_type": "stream",
          "name": "stdout",
          "text": [
            "Number of sequences in the final dataset: 44967\n"
          ]
        }
      ]
    }
  ]
}